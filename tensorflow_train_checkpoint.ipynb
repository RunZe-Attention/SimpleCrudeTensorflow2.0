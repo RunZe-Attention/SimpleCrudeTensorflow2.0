{
 "cells": [
  {
   "cell_type": "code",
   "execution_count": 36,
   "metadata": {},
   "outputs": [],
   "source": [
    "import tensorflow as tf\n",
    "import numpy as np\n",
    "import argparse\n",
    "#from zh.model.mnist.mlp import MLP\n",
    "#from zh.model.utils import MNISTLoader\n",
    "\n",
    "parser = argparse.ArgumentParser(description='Process some integers.')\n",
    "parser.add_argument('--mode', default='test', help='train or test')\n",
    "parser.add_argument('--num_epochs', default=1)\n",
    "parser.add_argument('--batch_size', default=50)\n",
    "parser.add_argument('--learning_rate', default=0.001)\n",
    "args = parser.parse_args(args=[])\n",
    "\n",
    "class MNISTLoader():\n",
    "    def __init__(self):\n",
    "        mnist = tf.keras.datasets.mnist\n",
    "        (self.train_data, self.train_label), (self.test_data, self.test_label) = mnist.load_data()\n",
    "        # MNIST中的图像默认为uint8（0-255的数字）。以下代码将其归一化到0-1之间的浮点数，并在最后增加一维作为颜色通道\n",
    "        self.train_data = np.expand_dims(self.train_data.astype(np.float32) / 255.0, axis=-1)      # [60000, 28, 28, 1]\n",
    "        self.test_data = np.expand_dims(self.test_data.astype(np.float32) / 255.0, axis=-1)        # [10000, 28, 28, 1]\n",
    "        self.train_label = self.train_label.astype(np.int32)    # [60000]\n",
    "        self.test_label = self.test_label.astype(np.int32)      # [10000]\n",
    "        self.num_train_data, self.num_test_data = self.train_data.shape[0], self.test_data.shape[0]\n",
    "\n",
    "    def get_batch(self, batch_size):\n",
    "        # 从数据集中随机取出batch_size个元素并返回\n",
    "        index = np.random.randint(0, self.num_train_data, batch_size)\n",
    "        return self.train_data[index, :], self.train_label[index]"
   ]
  },
  {
   "cell_type": "code",
   "execution_count": 37,
   "metadata": {},
   "outputs": [],
   "source": [
    "class MLP(tf.keras.Model):\n",
    "    def __init__(self):\n",
    "        super().__init__()\n",
    "        self.flatten = tf.keras.layers.Flatten()    # Flatten层将除第一维（batch_size）以外的维度展平\n",
    "        self.dense1 = tf.keras.layers.Dense(units=100, activation=tf.nn.relu)\n",
    "        self.dense2 = tf.keras.layers.Dense(units=10)\n",
    "\n",
    "    def call(self, inputs):         # [batch_size, 28, 28, 1]\n",
    "        x = self.flatten(inputs)    # [batch_size, 784]\n",
    "        x = self.dense1(x)          # [batch_size, 100]\n",
    "        x = self.dense2(x)          # [batch_size, 10]\n",
    "        output = tf.nn.softmax(x)   # [batch_size, 10]\n",
    "        return output"
   ]
  },
  {
   "cell_type": "code",
   "execution_count": 38,
   "metadata": {},
   "outputs": [],
   "source": [
    "data_loader = MNISTLoader()"
   ]
  },
  {
   "cell_type": "code",
   "execution_count": 39,
   "metadata": {},
   "outputs": [
    {
     "name": "stdout",
     "output_type": "stream",
     "text": [
      "test accuracy: 0.950100\n"
     ]
    }
   ],
   "source": [
    "def train():\n",
    "    model = MLP()\n",
    "    optimizer = tf.keras.optimizers.Adam(learning_rate=args.learning_rate)\n",
    "    num_batches = int(data_loader.num_train_data // args.batch_size * args.num_epochs)\n",
    "    checkpoint = tf.train.Checkpoint(myAwesomeModel=model)      # 实例化Checkpoint，设置保存对象为model\n",
    "    \n",
    "    # 使用CheckPointManager对Checkpoint进行管理\n",
    "    manager = tf.train.CheckpointManager(checkpoint,\"./save_manager\",max_to_keep = 3)\n",
    "    \n",
    "    \n",
    "    \n",
    "    for batch_index in range(1, num_batches+1):                 \n",
    "        X, y = data_loader.get_batch(args.batch_size)\n",
    "        with tf.GradientTape() as tape:\n",
    "            y_pred = model(X) # 调用call\n",
    "            loss = tf.keras.losses.sparse_categorical_crossentropy(y_true=y, y_pred=y_pred)\n",
    "            loss = tf.reduce_mean(loss)\n",
    "            print(\"batch %d: loss %f\" % (batch_index, loss.numpy()))\n",
    "        grads = tape.gradient(loss, model.variables)\n",
    "        optimizer.apply_gradients(grads_and_vars=zip(grads, model.variables))\n",
    "        if batch_index % 100 == 0:                              # 每隔100个Batch保存一次\n",
    "            path = manager.save(batch_index)         # 保存模型参数到文件\n",
    "            print(\"model saved to %s\" % path)\n",
    "\n",
    "\n",
    "def test():\n",
    "    model_to_be_restored = MLP()\n",
    "    # 实例化Checkpoint，设置恢复对象为新建立的模型model_to_be_restored\n",
    "    checkpoint = tf.train.Checkpoint(myAwesomeModel=model_to_be_restored)      \n",
    "    checkpoint.restore(tf.train.latest_checkpoint('./save_manager'))    # 从文件恢复模型参数\n",
    "    y_pred = np.argmax(model_to_be_restored.predict(data_loader.test_data), axis=-1)\n",
    "    print(\"test accuracy: %f\" % (sum(y_pred == data_loader.test_label) / data_loader.num_test_data))\n",
    "\n",
    "\n",
    "if __name__ == '__main__':\n",
    "    if args.mode == 'train':\n",
    "        train()\n",
    "    if args.mode == 'test':\n",
    "        test()"
   ]
  },
  {
   "cell_type": "code",
   "execution_count": null,
   "metadata": {},
   "outputs": [],
   "source": []
  },
  {
   "cell_type": "code",
   "execution_count": null,
   "metadata": {},
   "outputs": [],
   "source": []
  }
 ],
 "metadata": {
  "kernelspec": {
   "display_name": "Python 3",
   "language": "python",
   "name": "python3"
  },
  "language_info": {
   "codemirror_mode": {
    "name": "ipython",
    "version": 3
   },
   "file_extension": ".py",
   "mimetype": "text/x-python",
   "name": "python",
   "nbconvert_exporter": "python",
   "pygments_lexer": "ipython3",
   "version": "3.6.12"
  }
 },
 "nbformat": 4,
 "nbformat_minor": 4
}
